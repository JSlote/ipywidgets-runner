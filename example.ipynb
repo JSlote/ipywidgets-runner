{
 "cells": [
  {
   "cell_type": "code",
   "execution_count": 1,
   "metadata": {},
   "outputs": [],
   "source": [
    "import ipywidgets as w\n",
    "import ipywidgets_runner as wr\n",
    "from time import sleep\n"
   ]
  },
  {
   "cell_type": "code",
   "execution_count": 2,
   "metadata": {},
   "outputs": [],
   "source": [
    "def f1(a):\n",
    "#     for i in range(10):\n",
    "#         sleep(.1)\n",
    "    sleep(10)\n",
    "    return a*2\n",
    "\n",
    "def f2(a, b):\n",
    "    for i in range(20):\n",
    "        sleep(.1)\n",
    "    a = str(a)\n",
    "    b = str(b)\n",
    "    return a+b"
   ]
  },
  {
   "cell_type": "code",
   "execution_count": 3,
   "metadata": {},
   "outputs": [
    {
     "data": {
      "application/vnd.jupyter.widget-view+json": {
       "model_id": "1dbe7f822b1f4b8bb03bea5bec0445ca",
       "version_major": 2,
       "version_minor": 0
      },
      "text/plain": [
       "HBox(children=(VBox(children=(Text(value=''), Text(value=''), Output(layout=Layout(border='solid 3px rgba(0,0,…"
      ]
     },
     "metadata": {},
     "output_type": "display_data"
    }
   ],
   "source": [
    "in_widget1 = w.Text()\n",
    "in_widget2 = w.Text()\n",
    "output_widget1 = w.Output()\n",
    "output_widget2 = w.Output()\n",
    "\n",
    "first_node = wr.Node(\n",
    "    args=[in_widget1],\n",
    "    f=f1,\n",
    "    out=output_widget1\n",
    ")\n",
    "\n",
    "second_node = wr.Node(\n",
    "    args=[first_node, in_widget2],\n",
    "    f=f2,\n",
    "    out=output_widget2\n",
    ")\n",
    "\n",
    "container_widget = w.VBox([in_widget1, in_widget2, output_widget1, output_widget2])\n",
    "\n",
    "wr.start(container_widget)"
   ]
  },
  {
   "cell_type": "markdown",
   "metadata": {},
   "source": [
    "# Bugs:\n",
    "\n",
    " - with no sleep and fast typing, can raise asserntion error self._state in (CLOSE, TERMINATE)\n",
    " - with one long sleep, process doesn't get halted halfway <- not true\n",
    " - with a bunch of short sleeps, can get stuck in a state where it says \"BAILIN'\" twice. no bueno"
   ]
  },
  {
   "cell_type": "code",
   "execution_count": 4,
   "metadata": {},
   "outputs": [
    {
     "data": {
      "text/plain": [
       "140650586262496"
      ]
     },
     "execution_count": 4,
     "metadata": {},
     "output_type": "execute_result"
    }
   ],
   "source": [
    "id(second_node)"
   ]
  },
  {
   "cell_type": "code",
   "execution_count": 5,
   "metadata": {},
   "outputs": [
    {
     "data": {
      "text/plain": [
       "<ipywidgets_runner.Node at 0x7febc43b4be0>"
      ]
     },
     "execution_count": 5,
     "metadata": {},
     "output_type": "execute_result"
    }
   ],
   "source": [
    "second_node"
   ]
  },
  {
   "cell_type": "code",
   "execution_count": null,
   "metadata": {},
   "outputs": [],
   "source": []
  }
 ],
 "metadata": {
  "kernelspec": {
   "display_name": "Python 3",
   "language": "python",
   "name": "python3"
  },
  "language_info": {
   "codemirror_mode": {
    "name": "ipython",
    "version": 3
   },
   "file_extension": ".py",
   "mimetype": "text/x-python",
   "name": "python",
   "nbconvert_exporter": "python",
   "pygments_lexer": "ipython3",
   "version": "3.6.8"
  }
 },
 "nbformat": 4,
 "nbformat_minor": 2
}
