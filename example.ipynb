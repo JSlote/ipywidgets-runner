{
 "cells": [
  {
   "cell_type": "code",
   "execution_count": 1,
   "metadata": {},
   "outputs": [],
   "source": [
    "import ipywidgets as w\n",
    "import ipywidgets_runner as wr\n",
    "from time import sleep\n"
   ]
  },
  {
   "cell_type": "code",
   "execution_count": 2,
   "metadata": {},
   "outputs": [],
   "source": [
    "def f1(a):\n",
    "    sleep(1)\n",
    "    return wr.Output(value=a*10, display=a)\n",
    "\n",
    "def f2(a, b):\n",
    "    sleep(2)\n",
    "    return wr.Output(value=b + a, display=b + a)"
   ]
  },
  {
   "cell_type": "code",
   "execution_count": 3,
   "metadata": {},
   "outputs": [
    {
     "name": "stdout",
     "output_type": "stream",
     "text": [
      "This ancestor is a widget\n",
      "This ancestor is a widget\n"
     ]
    },
    {
     "data": {
      "application/vnd.jupyter.widget-view+json": {
       "model_id": "1baeb117bf444bd393df31ff8fdcd366",
       "version_major": 2,
       "version_minor": 0
      },
      "text/plain": [
       "VBox(children=(Text(value=''), Text(value=''), Output(), Output()))"
      ]
     },
     "metadata": {},
     "output_type": "display_data"
    },
    {
     "name": "stdout",
     "output_type": "stream",
     "text": [
      "Updating dag\n",
      "Nodes to update: [<ipywidgets_runner.Node object at 0x7f642c529780>, <ipywidgets_runner.Node object at 0x7f642c529240>]\n",
      "Current work queue\n",
      "[<ipywidgets_runner.Node object at 0x7f642c529780>, <ipywidgets_runner.Node object at 0x7f642c529240>]\n",
      "start success\n"
     ]
    }
   ],
   "source": [
    "in_widget1 = w.Text()\n",
    "in_widget2 = w.Text()\n",
    "output_widget1 = w.Output()\n",
    "output_widget2 = w.Output()\n",
    "\n",
    "first_node = wr.Node(\n",
    "    args=[in_widget1],\n",
    "    f=f1,\n",
    "    out=output_widget1\n",
    ")\n",
    "\n",
    "second_node = wr.Node(\n",
    "    args=[first_node, in_widget2],\n",
    "    f=f2,\n",
    "    out=output_widget2\n",
    ")\n",
    "\n",
    "container_widget = w.VBox([in_widget1, in_widget2, output_widget1, output_widget2])\n",
    "\n",
    "wr.start(container_widget)"
   ]
  },
  {
   "cell_type": "code",
   "execution_count": 4,
   "metadata": {},
   "outputs": [
    {
     "data": {
      "text/plain": [
       "str"
      ]
     },
     "execution_count": 4,
     "metadata": {},
     "output_type": "execute_result"
    }
   ],
   "source": [
    "type(\"ASDf\")"
   ]
  },
  {
   "cell_type": "code",
   "execution_count": 5,
   "metadata": {},
   "outputs": [],
   "source": [
    "output_widget1.layout = w.Layout(border=\"dashed red 3px\")"
   ]
  },
  {
   "cell_type": "code",
   "execution_count": 6,
   "metadata": {},
   "outputs": [
    {
     "data": {
      "text/plain": [
       "False"
      ]
     },
     "execution_count": 6,
     "metadata": {},
     "output_type": "execute_result"
    }
   ],
   "source": [
    "wr.worker.process.is_alive()"
   ]
  },
  {
   "cell_type": "code",
   "execution_count": null,
   "metadata": {},
   "outputs": [],
   "source": []
  }
 ],
 "metadata": {
  "kernelspec": {
   "display_name": "Python 3",
   "language": "python",
   "name": "python3"
  },
  "language_info": {
   "codemirror_mode": {
    "name": "ipython",
    "version": 3
   },
   "file_extension": ".py",
   "mimetype": "text/x-python",
   "name": "python",
   "nbconvert_exporter": "python",
   "pygments_lexer": "ipython3",
   "version": "3.6.8"
  }
 },
 "nbformat": 4,
 "nbformat_minor": 2
}
