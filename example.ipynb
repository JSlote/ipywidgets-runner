{
 "cells": [
  {
   "cell_type": "code",
   "execution_count": 1,
   "metadata": {},
   "outputs": [],
   "source": [
    "import ipywidgets as w\n",
    "import ipywidgets_runner as wr\n",
    "from time import sleep"
   ]
  },
  {
   "cell_type": "code",
   "execution_count": 2,
   "metadata": {},
   "outputs": [],
   "source": [
    "def think_hard(a=\"\"):\n",
    "    sleep(10)\n",
    "    return a+\" hmmm...\"\n",
    "\n",
    "def think_harder(a=\"\", b=\"\"):\n",
    "    sleep(60)\n",
    "    return b+\" aha! \"+a"
   ]
  },
  {
   "cell_type": "code",
   "execution_count": 3,
   "metadata": {},
   "outputs": [],
   "source": [
    "thought1 = w.Text()\n",
    "thought2 = w.Text()\n",
    "output_widget = w.Output()\n",
    "\n",
    "hmm_node = wr.Node(\n",
    "    args=[thought1],\n",
    "    f=think_hard\n",
    ")\n",
    "\n",
    "aha_node = wr.Node(\n",
    "  args=[hmm_node, thought2],\n",
    "  f=think_harder\n",
    ")\n",
    "\n",
    "output_node = wr.Node(\n",
    "  args=[aha_node],\n",
    "  f=lambda x: wr.Output(display=x)\n",
    ")\n",
    "\n",
    "container_widget = w.VBox([thought1, thought2, output_widget])\n",
    "\n",
    "wr.start(container_widget)"
   ]
  },
  {
   "cell_type": "markdown",
   "metadata": {},
   "source": [
    "node outputs:\n",
    "\n",
    "    1. Raw output which is treated as just data\n",
    "    2. wr.Output object which has two optional properties: data & display\n",
    "    3. potentially ipython.output.*"
   ]
  },
  {
   "cell_type": "code",
   "execution_count": null,
   "metadata": {},
   "outputs": [],
   "source": []
  }
 ],
 "metadata": {
  "kernelspec": {
   "display_name": "Python 3",
   "language": "python",
   "name": "python3"
  },
  "language_info": {
   "codemirror_mode": {
    "name": "ipython",
    "version": 3
   },
   "file_extension": ".py",
   "mimetype": "text/x-python",
   "name": "python",
   "nbconvert_exporter": "python",
   "pygments_lexer": "ipython3",
   "version": "3.6.8"
  }
 },
 "nbformat": 4,
 "nbformat_minor": 2
}
