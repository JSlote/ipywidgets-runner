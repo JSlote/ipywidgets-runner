{
 "cells": [
  {
   "cell_type": "code",
   "execution_count": null,
   "metadata": {},
   "outputs": [],
   "source": [
    "import ipywidgets as w\n",
    "import ipywidgets_runner as wr\n",
    "from time import sleep"
   ]
  },
  {
   "cell_type": "code",
   "execution_count": null,
   "metadata": {},
   "outputs": [],
   "source": [
    "def f1(a):\n",
    "    sleep(10)\n",
    "    return a*2\n",
    "\n",
    "def f2(a, b):\n",
    "    a = str(a)\n",
    "    b = str(b)\n",
    "    return a+b"
   ]
  },
  {
   "cell_type": "code",
   "execution_count": null,
   "metadata": {},
   "outputs": [],
   "source": [
    "in_widget1 = w.Text()\n",
    "in_widget2 = w.Text()\n",
    "output_widget1 = w.Output()\n",
    "output_widget2 = w.Output()\n",
    "\n",
    "first_node = wr.Node(\n",
    "    args=[in_widget1],\n",
    "    f=f1,\n",
    "    out=output_widget1\n",
    ")\n",
    "\n",
    "second_node = wr.Node(\n",
    "    args=[first_node, in_widget2],\n",
    "    f=f2,\n",
    "    out=output_widget2\n",
    ")\n",
    "\n",
    "container_widget = w.VBox([in_widget1, in_widget2, output_widget1, output_widget2])\n",
    "\n",
    "wr.start(container_widget)"
   ]
  }
 ],
 "metadata": {
  "kernelspec": {
   "display_name": "Python 3",
   "language": "python",
   "name": "python3"
  },
  "language_info": {
   "codemirror_mode": {
    "name": "ipython",
    "version": 3
   },
   "file_extension": ".py",
   "mimetype": "text/x-python",
   "name": "python",
   "nbconvert_exporter": "python",
   "pygments_lexer": "ipython3",
   "version": "3.6.8"
  }
 },
 "nbformat": 4,
 "nbformat_minor": 2
}
