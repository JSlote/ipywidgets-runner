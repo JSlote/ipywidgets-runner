{
 "cells": [
  {
   "cell_type": "code",
   "execution_count": 2,
   "metadata": {},
   "outputs": [],
   "source": [
    "import ipywidgets as w\n",
    "import ipywidgets_runner as wr\n",
    "import sympy as sp\n",
    "import time\n",
    "import matplotlib.pyplot as plt\n",
    "\n",
    "%matplotlib widget"
   ]
  },
  {
   "cell_type": "code",
   "execution_count": 3,
   "metadata": {
    "scrolled": true
   },
   "outputs": [
    {
     "data": {
      "image/png": "[encoded data removed]",
      "text/plain": [
       "<Figure size 432x288 with 1 Axes>"
      ]
     },
     "metadata": {},
     "output_type": "display_data"
    }
   ],
   "source": [
    "plt.ioff()\n",
    "\n",
    "ax = plt.gca()\n",
    "plt.bar([1],[1]);\n",
    "display(ax.figure)"
   ]
  },
  {
   "cell_type": "code",
   "execution_count": 4,
   "metadata": {},
   "outputs": [
    {
     "data": {
      "application/vnd.jupyter.widget-view+json": {
       "model_id": "5826528dc3a54fb5afe136a0b06aa337",
       "version_major": 2,
       "version_minor": 0
      },
      "text/plain": [
       "VBox(children=(Output(),), layout=Layout(border='solid black 3px'))"
      ]
     },
     "metadata": {},
     "output_type": "display_data"
    }
   ],
   "source": [
    "ax = plt.gca()\n",
    "plt.bar([1,2,3],[3,4,5]);\n",
    "plt.xticks([1,2,3],(\"a\",\"b\",\"c\"));\n",
    "\n",
    "output_widget = w.Output()\n",
    "container_widget = w.VBox([output_widget], layout=w.Layout(border=\"solid black 3px\"))\n",
    "with output_widget:\n",
    "    display(ax.figure)\n",
    "    \n",
    "display(container_widget)"
   ]
  },
  {
   "cell_type": "code",
   "execution_count": null,
   "metadata": {},
   "outputs": [],
   "source": [
    "%%html\n",
    "<img src=\"overview.svg\" />"
   ]
  },
  {
   "cell_type": "markdown",
   "metadata": {},
   "source": [
    "---"
   ]
  },
  {
   "cell_type": "code",
   "execution_count": null,
   "metadata": {},
   "outputs": [],
   "source": [
    "def parse_expression(exp):\n",
    "    try:\n",
    "        number = int(sp.sympify(exp))\n",
    "    except:\n",
    "        number = 1\n",
    "    return number\n",
    "\n",
    "def find_primes(number):\n",
    "    return sp.factorint(number)\n",
    "\n",
    "def plot_primes(number, primesdict):\n",
    "    # grab current axes\n",
    "    ax = plt.gca()\n",
    "    # make a bar graph\n",
    "    factors = sorted(list(primesdict.keys()))\n",
    "    try:\n",
    "        plt.clf()\n",
    "    except:\n",
    "        pass\n",
    "    ax.set_title(\"Factors of \" + str(number))\n",
    "    plt.bar(range(len(factors)),[primesdict[factor] for factor in factors])\n",
    "    plt.xticks(range(len(factors)),(str(factor) for factor in factors), rotation=45)\n",
    "    return ax.figure"
   ]
  },
  {
   "cell_type": "code",
   "execution_count": null,
   "metadata": {
    "scrolled": false
   },
   "outputs": [],
   "source": [
    "expression_widget = w.Text()\n",
    "\n",
    "prime_decomposition_widget = w.Output()\n",
    "\n",
    "parse_node = wr.Node(\n",
    "    args=[expression_widget],\n",
    "    f=parse_expression\n",
    ")\n",
    "\n",
    "factor_node = wr.Node(\n",
    "    args=[parse_node],\n",
    "    f=find_primes\n",
    ")\n",
    "\n",
    "third_node = wr.Node(\n",
    "    args=[parse_node, factor_node],\n",
    "    f=plot_primes,\n",
    "    display_widget=prime_decomposition_widget\n",
    ")\n",
    "\n",
    "container_widget = w.VBox([expression_widget, prime_decomposition_widget])\n",
    "\n",
    "wr.display(container_widget, debug=True)"
   ]
  },
  {
   "cell_type": "code",
   "execution_count": null,
   "metadata": {},
   "outputs": [],
   "source": []
  }
 ],
 "metadata": {
  "kernelspec": {
   "display_name": "Python 3",
   "language": "python",
   "name": "python3"
  },
  "language_info": {
   "codemirror_mode": {
    "name": "ipython",
    "version": 3
   },
   "file_extension": ".py",
   "mimetype": "text/x-python",
   "name": "python",
   "nbconvert_exporter": "python",
   "pygments_lexer": "ipython3",
   "version": "3.6.10"
  }
 },
 "nbformat": 4,
 "nbformat_minor": 2
}
