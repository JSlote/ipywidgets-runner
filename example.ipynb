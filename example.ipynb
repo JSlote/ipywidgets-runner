{
 "cells": [
  {
   "cell_type": "code",
   "execution_count": 1,
   "metadata": {},
   "outputs": [],
   "source": [
    "import ipywidgets as w\n",
    "import ipywidgets_runner as wr\n",
    "import time"
   ]
  },
  {
   "cell_type": "markdown",
   "metadata": {},
   "source": [
    "---"
   ]
  },
  {
   "cell_type": "code",
   "execution_count": 2,
   "metadata": {},
   "outputs": [],
   "source": [
    "def f1(a):\n",
    "    time.sleep(2)\n",
    "    return a+a\n",
    "\n",
    "def f2(a, b):\n",
    "    a = str(a)\n",
    "    b = str(b)\n",
    "    time.sleep(2)\n",
    "    return a+b"
   ]
  },
  {
   "cell_type": "code",
   "execution_count": 3,
   "metadata": {},
   "outputs": [
    {
     "data": {
      "application/vnd.jupyter.widget-view+json": {
       "model_id": "c7732b0278ed42f48240fec27c4995d8",
       "version_major": 2,
       "version_minor": 0
      },
      "text/plain": [
       "VBox(children=(VBox(children=(Text(value=''), Text(value=''), Output())), Output(layout=Layout(border='solid')…"
      ]
     },
     "metadata": {},
     "output_type": "display_data"
    }
   ],
   "source": [
    "in_widget1 = w.Text()\n",
    "in_widget2 = w.Text()\n",
    "\n",
    "output_widget1 = w.Output()\n",
    "\n",
    "first_node = wr.Node(\n",
    "    args=[in_widget1],\n",
    "    f=f1\n",
    ")\n",
    "\n",
    "second_node = wr.Node(\n",
    "    args=[in_widget2],\n",
    "    f=f1\n",
    ")\n",
    "\n",
    "third_node = wr.Node(\n",
    "    args=[first_node, second_node],\n",
    "    f=f2,\n",
    "    display_widget=output_widget1\n",
    ")\n",
    "\n",
    "container_widget = w.VBox([in_widget1, in_widget2, output_widget1])\n",
    "\n",
    "wr.display(container_widget, debug=True)"
   ]
  },
  {
   "cell_type": "code",
   "execution_count": null,
   "metadata": {},
   "outputs": [],
   "source": []
  }
 ],
 "metadata": {
  "kernelspec": {
   "display_name": "Python 3",
   "language": "python",
   "name": "python3"
  },
  "language_info": {
   "codemirror_mode": {
    "name": "ipython",
    "version": 3
   },
   "file_extension": ".py",
   "mimetype": "text/x-python",
   "name": "python",
   "nbconvert_exporter": "python",
   "pygments_lexer": "ipython3",
   "version": "3.6.8"
  }
 },
 "nbformat": 4,
 "nbformat_minor": 2
}
